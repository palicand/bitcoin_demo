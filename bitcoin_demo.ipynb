{
 "cells": [
  {
   "cell_type": "code",
   "execution_count": 262,
   "metadata": {
    "collapsed": true
   },
   "outputs": [],
   "source": [
    "import cryptography\n",
    "import hashlib\n",
    "import os\n",
    "import hmac\n",
    "import base58\n",
    "from bitstring import BitArray\n",
    "from ecdsa import SigningKey, SECP256k1\n",
    "from ecdsa.util import string_to_number, number_to_string"
   ]
  },
  {
   "cell_type": "code",
   "execution_count": 74,
   "metadata": {
    "collapsed": true
   },
   "outputs": [],
   "source": [
    "N_WORDS = 24\n",
    "PASSPHRASE = \"\"\n",
    "INITIAL_ENT = 256\n",
    "\n",
    "with open(\"wordlist.txt\", mode=\"r\") as wordlist_file:\n",
    "    wordlist = wordlist_file.read().split(\"\\n\")\n"
   ]
  },
  {
   "cell_type": "code",
   "execution_count": 79,
   "metadata": {
    "collapsed": true
   },
   "outputs": [],
   "source": [
    "def return_first_n_bits(n, bts):\n",
    "    bits = BitArray(bts)\n",
    "    return bits[:n].uint\n",
    "\n",
    "def get_word_indices(wordlist_entropy):\n",
    "    indices = []\n",
    "    bits = BitArray(wordlist_entropy)\n",
    "    i = 0\n",
    "    while i < len(bits):\n",
    "        indices.append(bits[i: i + 11].uint)\n",
    "        i += 11\n",
    "    return indices"
   ]
  },
  {
   "cell_type": "markdown",
   "metadata": {},
   "source": [
    "# Bitcoin wallet generation demo\n",
    "\n",
    "This Jupyter Notebook serves as a step-by-step demonstration of how a Bitcoin wallet is generated along with a bunch of public addresses.\n",
    "\n",
    "__Disclaimer: You could, theoretically, use this as a way to generate your paper wallet, however this is not advised, since the code has not undergone any security review whatsover.__"
   ]
  },
  {
   "cell_type": "markdown",
   "metadata": {},
   "source": [
    "## Generate Initial Entropy\n",
    "Source: https://github.com/bitcoin/bips/blob/master/bip-0039.mediawiki\n",
    "\n",
    "First we generate an initial entropy of `INITIAL_ENT / 8` bits and its checksum. By joining these we get an entropy that'll be used to generate the word list.\n",
    "\n",
    "__ Notice, that we use `os.urandom` as our source of entropy. The [documentation states](https://docs.python.org/3/library/os.html#os.urandom) that this should be secure enough, but ultimately depends on your system configuration.__"
   ]
  },
  {
   "cell_type": "code",
   "execution_count": 80,
   "metadata": {},
   "outputs": [
    {
     "name": "stdout",
     "output_type": "stream",
     "text": [
      "Our wordlist entropy is 663dada0c37a7dca43108315129138483ee42293f6355a0e838880016011295666\n"
     ]
    }
   ],
   "source": [
    "initial_entropy = os.urandom(INITIAL_ENT // 8)\n",
    "initial_digest = hashlib.sha256(initial_entropy).digest()\n",
    "initial_checksum = return_first_n_bits(INITIAL_ENT // 32, initial_digest)\n",
    "wordlist_entropy = initial_digest + bytes([initial_checksum])\n",
    "print(f\"Our wordlist entropy is {wordlist_entropy.hex()}\")"
   ]
  },
  {
   "cell_type": "code",
   "execution_count": 81,
   "metadata": {},
   "outputs": [
    {
     "name": "stdout",
     "output_type": "stream",
     "text": [
      "Word seed is: ['great', 'uniform', 'habit', 'manage', 'pond', 'topple', 'arrange', 'away', 'bench', 'nest', 'evoke', 'motor', 'unusual', 'bacon', 'exist', 'shop', 'foam', 'inject', 'timber', 'abandon', 'bid', 'ancient', 'pipe', 'smoke']\n"
     ]
    }
   ],
   "source": [
    "word_indexes = get_word_indices(wordlist_entropy)\n",
    "word_seed = [wordlist[i] for i in word_indexes]\n",
    "print(f\"Word seed is: {word_seed}\")"
   ]
  },
  {
   "cell_type": "markdown",
   "metadata": {},
   "source": [
    "We use the wordlist and an optional `PASSPHRASE` to generate the seed for the wallet key generation. The seed is generated using PBKDF2 key generation function."
   ]
  },
  {
   "cell_type": "code",
   "execution_count": 82,
   "metadata": {},
   "outputs": [
    {
     "name": "stdout",
     "output_type": "stream",
     "text": [
      "Our seed is bd76fbcf18d7fc1d095af458d6a94e6dba6fffa12bd3709145f3d66513251331584c55a137602c52e4fdcdd6a9d7888a8a009a6332fc16dfe24dea334f58007f\n"
     ]
    }
   ],
   "source": [
    "seed = hashlib.pbkdf2_hmac(\"sha512\", (\"\".join(word_seed) + PASSPHRASE).encode(\"utf-8\"), (\"mnemonic\" + PASSPHRASE).encode(\"utf-8\"), 2048)\n",
    "print(f\"Our seed is {seed.hex()}\")"
   ]
  },
  {
   "cell_type": "markdown",
   "metadata": {},
   "source": [
    "## Generating the wallet\n",
    "Primary resource: https://github.com/bitcoin/bips/blob/master/bip-0032.mediawiki\n",
    "\n",
    "Using the seed, we first generate the master key. We can subsequently use this key to generate child private and public keys for all our accounts."
   ]
  },
  {
   "cell_type": "code",
   "execution_count": 425,
   "metadata": {
    "collapsed": true
   },
   "outputs": [],
   "source": [
    "# Definition of functions as presented in BIP-32. These include key derivation function as well as helper functions.\n",
    "\n",
    "def serialise_bytes(key, key_type, chain_code, depth=0x00, fingerprint=bytes([0] * 4), child_no=bytes([0] * 4)):\n",
    "    if key_type == \"pub\":\n",
    "        version = 0x0488B21E.to_bytes(4, \"big\")\n",
    "    elif key_type == \"priv\":\n",
    "        version = 0x0488ADE4.to_bytes(4, \"big\")\n",
    "        key = bytes([0]) + key.to_bytes(32, \"big\")\n",
    "    return version + bytes([depth]) + fingerprint + child_no + chain_code + key\n",
    "\n",
    "def key_to_b58(serialised_key):\n",
    "    fingerprint = hashlib.sha256(hashlib.sha256(serialised_key).digest()).digest()[:4]\n",
    "    return base58.b58encode(serialised_key + fingerprint)\n",
    "    \n",
    "def key_fingerprint(key):\n",
    "    key = point_to_pk(key)\n",
    "    ripemd = hashlib.new(\"ripemd160\")\n",
    "    ripemd.update(hashlib.sha256(key).digest())\n",
    "    digest = ripemd.digest()\n",
    "    return digest[:4]\n",
    "\n",
    "def parse_256(p):\n",
    "    return int.from_bytes(p, \"big\")\n",
    "\n",
    "def point_to_pk(point):\n",
    "    x = number_to_string(point.x(), SECP256k1.order)\n",
    "    y = number_to_string(point.y(), SECP256k1.order)\n",
    "    return bytes([((y[31] & 1) + 2)]) + x\n",
    "\n",
    "def derive_key_and_chain(key, msg):\n",
    "    digest = hmac.new(key=key, msg=msg, digestmod=hashlib.sha512).digest()\n",
    "    return int.from_bytes(digest[:32], \"big\"), digest[32:]\n",
    "\n",
    "def print_key_parts(key):\n",
    "    print(key[:8])\n",
    "    print(key[8:10])\n",
    "    print(key[10:18])\n",
    "    print(key[18:26])\n",
    "    print(key[26:90])\n",
    "    print(key[90:156])\n",
    "    print(key[156:])\n",
    "    \n",
    "def point_mul(p):\n",
    "    return SECP256k1.generator * p\n",
    "\n",
    "def key_mod(key):\n",
    "    return key % SECP256k1.order\n",
    "\n",
    "# Derivation function definitions\n",
    "def CKDpriv(key, chain, i):\n",
    "    \"\"\"Derives a child private key from a parent private key\"\"\"\n",
    "    if i >= 2 ** 31:\n",
    "        # we are generating a hardened key\n",
    "        child_key, child_chain = derive_key_and_chain(chain, bytes([0]) + key.to_bytes(32, \"big\") + i.to_bytes(4, \"big\"))\n",
    "    else:\n",
    "        child_key, child_chain = derive_key_and_chain(chain, point_to_pk(point_mul(key)) + i.to_bytes(4, \"big\"))\n",
    "    child_key = key_mod(child_key + key)\n",
    "    return child_key, child_chain\n",
    "\n",
    "def CKDpub(key, chain, i):\n",
    "    if i >= 2 ** 31:\n",
    "        raise ValueError(\"Derivation of pubkey from a parent pubkey is not defined\")\n",
    "    child_key, child_chain = derive_key_and_chain(chain, point_to_pk(key) + i.to_bytes(4, \"big\"))\n",
    "    child_key = point_mul(int.from_bytes(child_key, \"big\")) + key\n",
    "    return child_key, child_chain\n"
   ]
  },
  {
   "cell_type": "code",
   "execution_count": 426,
   "metadata": {},
   "outputs": [
    {
     "name": "stdout",
     "output_type": "stream",
     "text": [
      "Your master key is e8f32e723decf4051aefac8e2c93c9c5b214313817cdb01a1494b917c8436b35 and your master chain code is 873dff81c02f525623fd1fe5167eac3a55a049de3d314bb42ee227ffed37d508\n"
     ]
    }
   ],
   "source": [
    "seed = bytes.fromhex(\"000102030405060708090a0b0c0d0e0f\") # this is a seed from the first test vector in BIP-32\n",
    "master_key, master_chain = derive_key_and_chain(b\"Bitcoin seed\", seed)\n",
    "print(f\"Your master key is {master_key.to_bytes(32, 'big').hex()} and your master chain code is {master_chain.hex()}\")"
   ]
  },
  {
   "cell_type": "code",
   "execution_count": 427,
   "metadata": {},
   "outputs": [
    {
     "name": "stdout",
     "output_type": "stream",
     "text": [
      "Your master xpriv is xprv9s21ZrQH143K3QTDL4LXw2F7HEK3wJUD2nW2nRk4stbPy6cq3jPPqjiChkVvvNKmPGJxWUtg6LnF5kejMRNNU3TGtRBeJgk33yuGBxrMPHi\n"
     ]
    }
   ],
   "source": [
    "serialised_master = serialise_bytes(master_key, \"priv\", master_chain, fingerprint=bytes([0] * 4), child_no=bytes([0] * 4))\n",
    "master_xpriv = key_to_b58(serialised_master)\n",
    "print(f\"Your master xpriv is {master_xpriv}\")"
   ]
  },
  {
   "cell_type": "code",
   "execution_count": 428,
   "metadata": {},
   "outputs": [
    {
     "name": "stdout",
     "output_type": "stream",
     "text": [
      "Your master xpub is xpub661MyMwAqRbcFtXgS5sYJABqqG9YLmC4Q1Rdap9gSE8NqtwybGhePY2gZ29ESFjqJoCu1Rupje8YtGqsefD265TMg7usUDFdp6W1EGMcet8\n"
     ]
    }
   ],
   "source": [
    "master_public_key = point_mul(master_key)\n",
    "serialised_master_public = serialise_bytes(point_to_pk(master_public_key), \"pub\", master_chain, fingerprint=bytes([0] * 4), child_no=bytes([0] * 4))\n",
    "print(f\"Your master xpub is {key_to_b58(serialised_master_public)}\")"
   ]
  },
  {
   "cell_type": "markdown",
   "metadata": {},
   "source": [
    "This gives us the master public and private keys of our wallet. From these, we can subsequently generate our \"sub-accounts\". Examples bellow."
   ]
  },
  {
   "cell_type": "code",
   "execution_count": 429,
   "metadata": {},
   "outputs": [
    {
     "name": "stdout",
     "output_type": "stream",
     "text": [
      "xprv9uHRZZhk6KAJC1avXpDAp4MDc3sQKNxDiPvvkX8Br5ngLNv1TxvUxt4cV1rGL5hj6KCesnDYUhd7oWgT11eZG7XnxHrnYeSvkzY7d2bhkJ7\n"
     ]
    },
    {
     "data": {
      "text/plain": [
       "True"
      ]
     },
     "execution_count": 429,
     "metadata": {},
     "output_type": "execute_result"
    }
   ],
   "source": [
    "i = 2 ** 31\n",
    "child_privk, child_chain = CKDpriv(master_key, master_chain, i)\n",
    "serialised_child_priv = serialise_bytes(child_privk, \"priv\", child_chain, 1, key_fingerprint(master_public_key), i.to_bytes(4, \"big\"))\n",
    "print(key_to_b58(serialised_child_priv))\n",
    "key_to_b58(serialised_child_priv) == \"xprv9uHRZZhk6KAJC1avXpDAp4MDc3sQKNxDiPvvkX8Br5ngLNv1TxvUxt4cV1rGL5hj6KCesnDYUhd7oWgT11eZG7XnxHrnYeSvkzY7d2bhkJ7\""
   ]
  },
  {
   "cell_type": "code",
   "execution_count": 432,
   "metadata": {},
   "outputs": [
    {
     "name": "stdout",
     "output_type": "stream",
     "text": [
      "xpub68Gmy5EdvgibQVfPdqkBBCHxA5htiqg55crXYuXoQRKfDBFA1WEjWgP6LHhwBZeNK1VTsfTFUHCdrfp1bgwQ9xv5ski8PX9rL2dZXvgGDnw\n"
     ]
    }
   ],
   "source": [
    "child_pub = point_mul(child_privk)\n",
    "serialised_child_public = serialise_bytes(point_to_pk(child_pub), \"pub\", child_chain, 1, key_fingerprint(master_public_key), i.to_bytes(4, \"big\"))\n",
    "print(key_to_b58(serialised_child_public))"
   ]
  },
  {
   "cell_type": "markdown",
   "metadata": {},
   "source": [
    "By applying CKDpriv and CKDpub recursively we generate the so-called _key tree_. The root of the tree is the master key, the leaf nodes are the actual wallet keys used for signing and verifying transactions and the inner nodes represent the intermediary parent keys. This structure allows for wallets that hold multiple accounts or even multiple coins (as long as they stick to the same key-derivation algorithms) without the need to generate multiple seeds.\n",
    "\n",
    "A standard notation for this is of the following form:\n",
    "\n",
    "```\n",
    "m / i' / j / ... / k\n",
    "```\n",
    "\n",
    "where `m` is a placeholder for the root key and further components are the `i`th, `j`th (and so on) keys in the hierarchy. The apostrophe denotes a hardened key.\n",
    "\n",
    "## Account hierarchy\n",
    "Reference:\n",
    " * https://github.com/bitcoin/bips/blob/master/bip-0044.mediawiki\n",
    " * https://github.com/bitcoin/bips/blob/master/bip-0049.mediawiki\n",
    "\n",
    "BIP-44 standarises the hierarchy in deterministic wallets.\n",
    "\n",
    "```\n",
    "m / purpose' / coin_type' / account' / change / address_index\n",
    "```\n",
    "\n",
    "The semantics behind most of the components are quite obvious from the name, maybe apart from `purpose`. `Purpose` determines the structure of the rest of the path. Usually it is set to `44` (as in BIP-44), however with the introduction of SegWit, constant `49` is used (as in BIP-49). Since we have to use hardened keys, the actual `int` representation will be `2^31 + 49`."
   ]
  },
  {
   "cell_type": "code",
   "execution_count": 437,
   "metadata": {
    "collapsed": true
   },
   "outputs": [],
   "source": [
    "def to_hardened_int(i):\n",
    "    return 2 ** 31 + i\n",
    "\n",
    "PURPOSE = to_hardened_int(49)\n",
    "COIN_TYPE = to_hardened_int(0)\n",
    "ACCOUNT = to_hardened_int(0)"
   ]
  },
  {
   "cell_type": "code",
   "execution_count": null,
   "metadata": {
    "collapsed": true
   },
   "outputs": [],
   "source": []
  }
 ],
 "metadata": {
  "kernelspec": {
   "display_name": "Python 3",
   "language": "python",
   "name": "python3"
  },
  "language_info": {
   "codemirror_mode": {
    "name": "ipython",
    "version": 3
   },
   "file_extension": ".py",
   "mimetype": "text/x-python",
   "name": "python",
   "nbconvert_exporter": "python",
   "pygments_lexer": "ipython3",
   "version": "3.6.2"
  }
 },
 "nbformat": 4,
 "nbformat_minor": 2
}
